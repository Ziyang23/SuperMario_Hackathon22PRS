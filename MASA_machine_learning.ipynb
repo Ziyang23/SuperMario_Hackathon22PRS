{
  "cells": [
    {
      "cell_type": "markdown",
      "metadata": {
        "id": "view-in-github",
        "colab_type": "text"
      },
      "source": [
        "<a href=\"https://colab.research.google.com/github/yingxin16/SuperMario_Hackathon22PRS/blob/main/MASA_machine_learning.ipynb\" target=\"_parent\"><img src=\"https://colab.research.google.com/assets/colab-badge.svg\" alt=\"Open In Colab\"/></a>"
      ]
    },
    {
      "cell_type": "markdown",
      "metadata": {
        "id": "fQ_PH1oa2OTJ"
      },
      "source": [
        "# **Reading dataset**"
      ]
    },
    {
      "cell_type": "code",
      "execution_count": null,
      "metadata": {
        "id": "LcfSsq_9QOzG"
      },
      "outputs": [],
      "source": [
        "#Import all the necessary libraries \n",
        "import pandas as pd\n",
        "import numpy as np\n",
        "import matplotlib.pyplot as plt\n",
        "import seaborn as sns\n",
        "import sklearn.metrics as metrics"
      ]
    },
    {
      "cell_type": "code",
      "execution_count": null,
      "metadata": {
        "colab": {
          "base_uri": "https://localhost:8080/",
          "height": 74,
          "resources": {
            "http://localhost:8080/nbextensions/google.colab/files.js": {
              "data": "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",
              "headers": [
                [
                  "content-type",
                  "application/javascript"
                ]
              ],
              "ok": true,
              "status": 200,
              "status_text": ""
            }
          }
        },
        "id": "c-81bTUHSMv1",
        "outputId": "b500654b-0354-40fd-dd70-0fe20fb4191c"
      },
      "outputs": [
        {
          "data": {
            "text/html": [
              "\n",
              "     <input type=\"file\" id=\"files-b749f3f1-bbb7-4109-813f-f4dd6e8cb031\" name=\"files[]\" multiple disabled\n",
              "        style=\"border:none\" />\n",
              "     <output id=\"result-b749f3f1-bbb7-4109-813f-f4dd6e8cb031\">\n",
              "      Upload widget is only available when the cell has been executed in the\n",
              "      current browser session. Please rerun this cell to enable.\n",
              "      </output>\n",
              "      <script src=\"/nbextensions/google.colab/files.js\"></script> "
            ],
            "text/plain": [
              "<IPython.core.display.HTML object>"
            ]
          },
          "metadata": {},
          "output_type": "display_data"
        },
        {
          "name": "stdout",
          "output_type": "stream",
          "text": [
            "Saving [MASA Hackathon 2022] Travel Insurance Data Set .xlsx to [MASA Hackathon 2022] Travel Insurance Data Set .xlsx\n"
          ]
        }
      ],
      "source": [
        "#load data using file uploader \n",
        "from google.colab import files \n",
        "    \n",
        "uploaded = files.upload()"
      ]
    },
    {
      "cell_type": "code",
      "execution_count": null,
      "metadata": {
        "id": "pHSP0ZzZStcO"
      },
      "outputs": [],
      "source": [
        "df=pd.read_excel ('[MASA Hackathon 2022] Travel Insurance Data Set .xlsx')"
      ]
    },
    {
      "cell_type": "markdown",
      "metadata": {
        "id": "Vl_mXXRYTj41"
      },
      "source": [
        "# **Data preprocessing**"
      ]
    },
    {
      "cell_type": "markdown",
      "metadata": {
        "id": "gYPVf-9KO0zL"
      },
      "source": [
        "### Data Cleaning\n",
        "\n",
        "Steps taken: \n",
        "1. Gender has 71% values missing, thus drop the column as it holds no value.\n",
        "\n",
        "2. Remove duplicate rows.\n",
        "\n",
        "3. Remove outliers\n",
        "\n",
        "4. Bin age into bin size of 10\n",
        "\n",
        "\n"
      ]
    },
    {
      "cell_type": "code",
      "execution_count": null,
      "metadata": {
        "id": "mazQfZS3Lxkq"
      },
      "outputs": [],
      "source": [
        "#clean empty spaces in column names \n",
        "df.columns = df.columns.str.strip()"
      ]
    },
    {
      "cell_type": "code",
      "execution_count": null,
      "metadata": {
        "colab": {
          "base_uri": "https://localhost:8080/"
        },
        "id": "XtQxDQDfTmOV",
        "outputId": "a593b1d5-27db-4d44-9dec-0c0549ba42ab"
      },
      "outputs": [
        {
          "data": {
            "text/plain": [
              "Agency                      0\n",
              "Agency Type                 0\n",
              "Distribution Channel        0\n",
              "Product Name                0\n",
              "Claim                       0\n",
              "Duration                    0\n",
              "Destination                 0\n",
              "Net Sales                   0\n",
              "Commision (in value)        0\n",
              "Gender                  45107\n",
              "Age                         0\n",
              "dtype: int64"
            ]
          },
          "execution_count": 92,
          "metadata": {},
          "output_type": "execute_result"
        }
      ],
      "source": [
        "df.isna().sum()"
      ]
    },
    {
      "cell_type": "code",
      "execution_count": null,
      "metadata": {
        "id": "gOtMJEVcWjd1"
      },
      "outputs": [],
      "source": [
        "df = df.drop(columns=['Gender'])"
      ]
    },
    {
      "cell_type": "code",
      "execution_count": null,
      "metadata": {
        "colab": {
          "base_uri": "https://localhost:8080/"
        },
        "id": "NHg8ZY_sz235",
        "outputId": "323fffdf-1a32-4432-f226-9430050bb030"
      },
      "outputs": [
        {
          "data": {
            "text/plain": [
              "8670"
            ]
          },
          "execution_count": 94,
          "metadata": {},
          "output_type": "execute_result"
        }
      ],
      "source": [
        "df.duplicated().sum()"
      ]
    },
    {
      "cell_type": "code",
      "execution_count": null,
      "metadata": {
        "id": "0DBnyo8a0itP"
      },
      "outputs": [],
      "source": [
        "df = df.drop_duplicates()"
      ]
    },
    {
      "cell_type": "code",
      "execution_count": null,
      "metadata": {
        "id": "R5lsk7cNkKz_"
      },
      "outputs": [],
      "source": [
        "df = df[(df['Duration'] >=1) & (df['Duration'] <1000)]\n",
        "df = df[df['Age'] <100]\n",
        "df = df[df['Net Sales'] <700]\n",
        "df = df[df['Commision (in value)'] <250]"
      ]
    },
    {
      "cell_type": "code",
      "execution_count": null,
      "metadata": {
        "colab": {
          "base_uri": "https://localhost:8080/"
        },
        "id": "c8KTq20_oT-Y",
        "outputId": "98632249-5662-49e1-90f1-eaeb53ea391a"
      },
      "outputs": [
        {
          "data": {
            "text/plain": [
              "(0, 88)"
            ]
          },
          "execution_count": 97,
          "metadata": {},
          "output_type": "execute_result"
        }
      ],
      "source": [
        "df['Age'].min(), df['Age'].max()"
      ]
    },
    {
      "cell_type": "code",
      "execution_count": null,
      "metadata": {
        "id": "OEu7hnS9oeE3"
      },
      "outputs": [],
      "source": [
        "bins = [0,10,20,30,40,50,60,70,80,90]\n",
        "df['AgeGroup'] = pd.cut(df['Age'],bins)\n",
        "df = df.drop(columns=['Age'])"
      ]
    },
    {
      "cell_type": "code",
      "execution_count": null,
      "metadata": {
        "colab": {
          "base_uri": "https://localhost:8080/"
        },
        "id": "GsCJMa-novgu",
        "outputId": "9f463ff3-cc8c-4b1f-b63d-842dc3806f73"
      },
      "outputs": [
        {
          "data": {
            "text/plain": [
              "(30, 40]    29322\n",
              "(40, 50]     8575\n",
              "(20, 30]     8031\n",
              "(50, 60]     4910\n",
              "(60, 70]     2115\n",
              "(70, 80]      539\n",
              "(10, 20]      397\n",
              "(80, 90]      103\n",
              "(0, 10]        36\n",
              "Name: AgeGroup, dtype: int64"
            ]
          },
          "execution_count": 99,
          "metadata": {},
          "output_type": "execute_result"
        }
      ],
      "source": [
        "df['AgeGroup'].value_counts()"
      ]
    },
    {
      "cell_type": "markdown",
      "metadata": {
        "id": "4Q6bT3TmSE0s"
      },
      "source": [
        "### Feature Engineering"
      ]
    },
    {
      "cell_type": "code",
      "execution_count": null,
      "metadata": {
        "colab": {
          "base_uri": "https://localhost:8080/"
        },
        "id": "S7M1OAgDfVoy",
        "outputId": "12cece8e-29c9-4621-e469-5a2ad4b6d209"
      },
      "outputs": [
        {
          "name": "stdout",
          "output_type": "stream",
          "text": [
            "SINGAPORE                 11182\n",
            "THAILAND                   5049\n",
            "MALAYSIA                   4316\n",
            "CHINA                      3917\n",
            "AUSTRALIA                  3453\n",
            "                          ...  \n",
            "NEW CALEDONIA                 1\n",
            "URUGUAY                       1\n",
            "BENIN                         1\n",
            "BARBADOS                      1\n",
            "BOSNIA AND HERZEGOVINA        1\n",
            "Name: Destination, Length: 147, dtype: int64\n",
            "147\n"
          ]
        }
      ],
      "source": [
        "df['Destination'].unique()\n",
        "print(df['Destination'].value_counts())\n",
        "print(df['Destination'].nunique())"
      ]
    },
    {
      "cell_type": "code",
      "execution_count": null,
      "metadata": {
        "id": "6fPjIdLaHXHE"
      },
      "outputs": [],
      "source": [
        "frequencies = df['Destination'].value_counts(normalize=True)\n",
        "mapping = df['Destination'].map(frequencies)\n",
        "df['Destination']=df['Destination'].mask(mapping <0.005, 'OTHER')"
      ]
    },
    {
      "cell_type": "code",
      "execution_count": null,
      "metadata": {
        "colab": {
          "base_uri": "https://localhost:8080/"
        },
        "id": "U7idUvrQsPGX",
        "outputId": "0be99e5e-1cc4-4639-9b90-1f10b14fcf7c"
      },
      "outputs": [
        {
          "name": "stdout",
          "output_type": "stream",
          "text": [
            "SINGAPORE                    11182\n",
            "THAILAND                      5049\n",
            "MALAYSIA                      4316\n",
            "CHINA                         3917\n",
            "AUSTRALIA                     3453\n",
            "OTHER                         3092\n",
            "INDONESIA                     2823\n",
            "UNITED STATES                 2469\n",
            "HONG KONG                     2082\n",
            "PHILIPPINES                   2002\n",
            "JAPAN                         1954\n",
            "KOREA, REPUBLIC OF            1410\n",
            "VIET NAM                      1351\n",
            "INDIA                         1299\n",
            "UNITED KINGDOM                1249\n",
            "TAIWAN, PROVINCE OF CHINA     1041\n",
            "MYANMAR                        645\n",
            "BRUNEI DARUSSALAM              643\n",
            "NEW ZEALAND                    524\n",
            "CANADA                         520\n",
            "FRANCE                         463\n",
            "GERMANY                        445\n",
            "ITALY                          440\n",
            "CAMBODIA                       430\n",
            "NETHERLANDS                    356\n",
            "SPAIN                          319\n",
            "UNITED ARAB EMIRATES           279\n",
            "SWITZERLAND                    277\n",
            "Name: Destination, dtype: int64\n",
            "28\n"
          ]
        }
      ],
      "source": [
        "df['Destination'].unique()\n",
        "print(df['Destination'].value_counts())\n",
        "print(df['Destination'].nunique())"
      ]
    },
    {
      "cell_type": "code",
      "execution_count": null,
      "metadata": {
        "colab": {
          "base_uri": "https://localhost:8080/"
        },
        "id": "KKQTZMR74jaf",
        "outputId": "ee881c77-5789-4be9-c5df-99df6dbcba21"
      },
      "outputs": [
        {
          "name": "stdout",
          "output_type": "stream",
          "text": [
            "EPX    28916\n",
            "CWT     8078\n",
            "C2B     7465\n",
            "JZI     5851\n",
            "SSI      912\n",
            "LWC      671\n",
            "RAB      593\n",
            "TST      474\n",
            "KML      305\n",
            "ART      267\n",
            "CCR      141\n",
            "CBH       99\n",
            "TTW       92\n",
            "CSR       85\n",
            "ADM       81\n",
            "Name: Agency, dtype: int64\n",
            "15\n"
          ]
        }
      ],
      "source": [
        "df['Agency'].unique()\n",
        "print(df['Agency'].value_counts())\n",
        "print(df['Agency'].nunique())"
      ]
    },
    {
      "cell_type": "code",
      "execution_count": null,
      "metadata": {
        "colab": {
          "base_uri": "https://localhost:8080/"
        },
        "id": "EblWazB7sWu3",
        "outputId": "593958f4-8982-4f95-b043-fb2cec8ffad5"
      },
      "outputs": [
        {
          "name": "stdout",
          "output_type": "stream",
          "text": [
            "Cancellation Plan                       15305\n",
            "2 way Comprehensive Plan                11104\n",
            "Rental Vehicle Excess Insurance          8078\n",
            "Basic Plan                               5014\n",
            "Bronze Plan                              3617\n",
            "1 way Comprehensive Plan                 2507\n",
            "Silver Plan                              2130\n",
            "Value Plan                               1686\n",
            "Annual Silver Plan                       1186\n",
            "Ticket Protector                          912\n",
            "Travel Cruise Protect                     473\n",
            "Gold Plan                                 347\n",
            "Comprehensive Plan                        310\n",
            "24 Protect                                240\n",
            "Single Trip Travel Protect Gold           199\n",
            "Annual Gold Plan                          185\n",
            "Premier Plan                              172\n",
            "Single Trip Travel Protect Silver         171\n",
            "Annual Travel Protect Gold                 97\n",
            "Annual Travel Protect Silver               86\n",
            "Single Trip Travel Protect Platinum        73\n",
            "Individual Comprehensive Plan              69\n",
            "Annual Travel Protect Platinum             45\n",
            "Spouse or Parents Comprehensive Plan       15\n",
            "Child Comprehensive Plan                    8\n",
            "Travel Cruise Protect Family                1\n",
            "Name: Product Name, dtype: int64\n",
            "26\n"
          ]
        }
      ],
      "source": [
        "df['Product Name'].unique()\n",
        "print(df['Product Name'].value_counts())\n",
        "print(df['Product Name'].nunique())"
      ]
    },
    {
      "cell_type": "code",
      "execution_count": null,
      "metadata": {
        "id": "3uy3qeHdZXak"
      },
      "outputs": [],
      "source": [
        "df['Product Name'] = df['Product Name'].replace(['Annual Travel Protect Gold','Annual Travel Protect Silver','Annual Travel Protect Platinum'], 'Annual Travel Protect')\n",
        "df['Product Name'] = df['Product Name'].replace(['Spouse or Parents Comprehensive Plan','Child Comprehensive Plan','Travel Cruise Protect Family'], 'Family')\n",
        "df['Product Name'] = df['Product Name'].replace(['Single Trip Travel Protect Gold','Single Trip Travel Protect Silver','Single Trip Travel Protect Platinum'], 'Single Trip Travel Protect')"
      ]
    },
    {
      "cell_type": "code",
      "execution_count": null,
      "metadata": {
        "colab": {
          "base_uri": "https://localhost:8080/"
        },
        "id": "xmnsKGzEGUdI",
        "outputId": "c4e4d253-7416-4612-b153-7aad78edda95"
      },
      "outputs": [
        {
          "name": "stdout",
          "output_type": "stream",
          "text": [
            "Cancellation Plan                  15305\n",
            "2 way Comprehensive Plan           11104\n",
            "Rental Vehicle Excess Insurance     8078\n",
            "Basic Plan                          5014\n",
            "Bronze Plan                         3617\n",
            "1 way Comprehensive Plan            2507\n",
            "Silver Plan                         2130\n",
            "Value Plan                          1686\n",
            "Annual Silver Plan                  1186\n",
            "Ticket Protector                     912\n",
            "Travel Cruise Protect                473\n",
            "Single Trip Travel Protect           443\n",
            "Gold Plan                            347\n",
            "Comprehensive Plan                   310\n",
            "24 Protect                           240\n",
            "Annual Travel Protect                228\n",
            "Annual Gold Plan                     185\n",
            "Premier Plan                         172\n",
            "Individual Comprehensive Plan         69\n",
            "Family                                24\n",
            "Name: Product Name, dtype: int64\n",
            "20\n"
          ]
        }
      ],
      "source": [
        "df['Product Name'].unique()\n",
        "print(df['Product Name'].value_counts())\n",
        "print(df['Product Name'].nunique())"
      ]
    },
    {
      "cell_type": "markdown",
      "metadata": {
        "id": "5ALSS0EGXyM0"
      },
      "source": [
        "### Data Tranformation"
      ]
    },
    {
      "cell_type": "code",
      "execution_count": null,
      "metadata": {
        "colab": {
          "base_uri": "https://localhost:8080/"
        },
        "id": "EHmnA8UJfXgM",
        "outputId": "9d46a066-eff9-401f-f55d-286390b624e1"
      },
      "outputs": [
        {
          "name": "stdout",
          "output_type": "stream",
          "text": [
            "<class 'pandas.core.frame.DataFrame'>\n",
            "Int64Index: 54030 entries, 0 to 63325\n",
            "Data columns (total 10 columns):\n",
            " #   Column                Non-Null Count  Dtype   \n",
            "---  ------                --------------  -----   \n",
            " 0   Agency                54030 non-null  object  \n",
            " 1   Agency Type           54030 non-null  object  \n",
            " 2   Distribution Channel  54030 non-null  object  \n",
            " 3   Product Name          54030 non-null  object  \n",
            " 4   Claim                 54030 non-null  object  \n",
            " 5   Duration              54030 non-null  int64   \n",
            " 6   Destination           54030 non-null  object  \n",
            " 7   Net Sales             54030 non-null  float64 \n",
            " 8   Commision (in value)  54030 non-null  float64 \n",
            " 9   AgeGroup              54028 non-null  category\n",
            "dtypes: category(1), float64(2), int64(1), object(6)\n",
            "memory usage: 4.2+ MB\n"
          ]
        }
      ],
      "source": [
        "df.info()"
      ]
    },
    {
      "cell_type": "code",
      "execution_count": null,
      "metadata": {
        "id": "aBBfyF1yryH-"
      },
      "outputs": [],
      "source": [
        "#categorical variables\n",
        "cat_var= ['Agency', 'Agency Type','Distribution Channel','Product Name','Claim','Destination','AgeGroup']\n",
        "\n",
        "#numerical variables\n",
        "num_var= ['Duration','Net Sales','Commision (in value)']"
      ]
    },
    {
      "cell_type": "code",
      "execution_count": null,
      "metadata": {
        "id": "wOdWfSxgzaSa"
      },
      "outputs": [],
      "source": [
        "from sklearn.preprocessing import LabelEncoder\n",
        "label_encoder = LabelEncoder()\n",
        "for var in cat_var:\n",
        "    label_encoder.fit(df[var])\n",
        "    df[var] = label_encoder.transform(df[var])"
      ]
    },
    {
      "cell_type": "code",
      "execution_count": null,
      "metadata": {
        "id": "O50ahAdyK7ep"
      },
      "outputs": [],
      "source": [
        "from sklearn.preprocessing import MinMaxScaler\n",
        "scaler = MinMaxScaler() \n",
        "df[num_var]= scaler.fit_transform(df[num_var])"
      ]
    },
    {
      "cell_type": "markdown",
      "metadata": {
        "id": "D-mNRgy72CnO"
      },
      "source": [
        "#**Create Training and Test Sets**\n",
        "\n",
        "This step is done before feature selection to prevent information leakage"
      ]
    },
    {
      "cell_type": "code",
      "execution_count": null,
      "metadata": {
        "id": "9GnDd7qH0SlA"
      },
      "outputs": [],
      "source": [
        "y = df['Claim']\n",
        "X = df.drop(columns=['Claim'])"
      ]
    },
    {
      "cell_type": "code",
      "execution_count": null,
      "metadata": {
        "id": "QwM8dpRV2OVV"
      },
      "outputs": [],
      "source": [
        "from sklearn.model_selection import train_test_split\n",
        "X_train, X_test, y_train, y_test = train_test_split(X, y,test_size=0.2, random_state=0) "
      ]
    },
    {
      "cell_type": "markdown",
      "metadata": {
        "id": "QW56qZwaVngO"
      },
      "source": [
        "# **Feature Selection**\n",
        "\n",
        "By using chi square test, we select those features that have the strong relationship with our target"
      ]
    },
    {
      "cell_type": "code",
      "execution_count": null,
      "metadata": {
        "colab": {
          "base_uri": "https://localhost:8080/"
        },
        "id": "VeO_XOkmWele",
        "outputId": "0a46e024-5980-4054-9ebd-bd6424637435"
      },
      "outputs": [
        {
          "name": "stdout",
          "output_type": "stream",
          "text": [
            "               Features       Score\n",
            "0                Agency  556.835276\n",
            "5           Destination  214.369683\n",
            "1           Agency Type  130.720451\n",
            "7  Commision (in value)   75.701239\n",
            "4              Duration   69.490788\n",
            "3          Product Name    8.844628\n",
            "6             Net Sales    4.005590\n",
            "8              AgeGroup    3.628144\n",
            "2  Distribution Channel    0.026660\n"
          ]
        }
      ],
      "source": [
        "#apply SelectKBest class \n",
        "from sklearn.feature_selection import SelectKBest\n",
        "from sklearn.feature_selection import  chi2\n",
        "\n",
        "bestfeatures = SelectKBest(score_func=chi2, k=5)\n",
        "fit = bestfeatures.fit(X_train,y_train)\n",
        "dfscores = pd.DataFrame(fit.scores_)\n",
        "dfcolumns = pd.DataFrame(X_train.columns)\n",
        "\n",
        "#concat two dataframes for better visualization \n",
        "featureScores = pd.concat([dfcolumns,dfscores],axis=1)\n",
        "featureScores.columns = ['Features','Score']  #naming the dataframe columns\n",
        "print(featureScores.nlargest(10,'Score'))  "
      ]
    },
    {
      "cell_type": "markdown",
      "metadata": {
        "id": "LX3GZQBnzOz_"
      },
      "source": [
        "Distribution Channel score very low, indicating no relationship found, thus is removed"
      ]
    },
    {
      "cell_type": "code",
      "execution_count": null,
      "metadata": {
        "id": "mci93pn2-d84"
      },
      "outputs": [],
      "source": [
        "X_train.drop('Distribution Channel',axis=1,inplace=True)"
      ]
    },
    {
      "cell_type": "code",
      "execution_count": null,
      "metadata": {
        "id": "PQFeKNleOGKK"
      },
      "outputs": [],
      "source": [
        "X_test.drop('Distribution Channel',axis=1,inplace=True)"
      ]
    },
    {
      "cell_type": "markdown",
      "metadata": {
        "id": "xPRKS4wbENLH"
      },
      "source": [
        "# **SMOTE**\n",
        "\n",
        "The data is very imbalance, thus we oversample the train dataset using SMOTE"
      ]
    },
    {
      "cell_type": "code",
      "execution_count": null,
      "metadata": {
        "colab": {
          "base_uri": "https://localhost:8080/"
        },
        "id": "-qeMLG9F0NEW",
        "outputId": "ebd768f5-6319-4616-9c26-d6a274488eb4"
      },
      "outputs": [
        {
          "name": "stdout",
          "output_type": "stream",
          "text": [
            "Before Oversampling Counter({0: 42503, 1: 721})\n",
            "After Oversampling Counter({0: 42503, 1: 42503})\n"
          ]
        }
      ],
      "source": [
        "from collections import Counter\n",
        "from imblearn.over_sampling import SMOTE\n",
        "\n",
        "counter = Counter(y_train)\n",
        "print('Before Oversampling',counter)\n",
        "\n",
        "sm = SMOTE()\n",
        "X_smote, y_smote = sm.fit_resample(X_train, y_train)\n",
        "\n",
        "counter= Counter(y_smote)\n",
        "print('After Oversampling',counter)\n",
        "\n",
        "X_train = X_smote.copy()\n",
        "y_train = y_smote.copy()"
      ]
    },
    {
      "cell_type": "markdown",
      "metadata": {
        "id": "oV_E0qZ_SpD6"
      },
      "source": [
        "# **Modelling and Evaluation**"
      ]
    },
    {
      "cell_type": "markdown",
      "metadata": {
        "id": "EX-Tv3ncfJuz"
      },
      "source": [
        "### Building models\n",
        "\n",
        "Fit 8 models in a for loop using default parameters.\n",
        "\n",
        "Although results will not be as precise, but able to weed out algorithms that has noticeably lower score.\n",
        "\n",
        "Thus, save time and able to focus on model tuning on a few of selected algorithms with higher score. "
      ]
    },
    {
      "cell_type": "code",
      "execution_count": null,
      "metadata": {
        "id": "FZbEhoQYfI9z"
      },
      "outputs": [],
      "source": [
        "#Algorithms\n",
        "from sklearn.tree import DecisionTreeClassifier\n",
        "from sklearn.naive_bayes import GaussianNB\n",
        "from sklearn.ensemble import GradientBoostingClassifier\n",
        "from sklearn.neighbors import KNeighborsClassifier\n",
        "from sklearn.linear_model import LogisticRegression\n",
        "from sklearn.neural_network import MLPClassifier\n",
        "from sklearn.ensemble import RandomForestClassifier\n",
        "from sklearn.svm import SVC"
      ]
    },
    {
      "cell_type": "code",
      "execution_count": null,
      "metadata": {
        "colab": {
          "base_uri": "https://localhost:8080/"
        },
        "id": "3iVh8ujyoFdx",
        "outputId": "8694eddd-8e8b-45c8-8749-109bda63578f"
      },
      "outputs": [
        {
          "data": {
            "text/plain": [
              "{'Decision Tree': DecisionTreeClassifier(),\n",
              " 'Naive Bayes': GaussianNB(),\n",
              " 'Gradinet Boosting': GradientBoostingClassifier(),\n",
              " 'KNN': KNeighborsClassifier(),\n",
              " 'Logistic Regression': LogisticRegression(max_iter=3000),\n",
              " 'MLP': MLPClassifier(max_iter=3000),\n",
              " 'Random Forest': RandomForestClassifier(),\n",
              " 'SVC': SVC(kernel='sigmoid')}"
            ]
          },
          "execution_count": 118,
          "metadata": {},
          "output_type": "execute_result"
        }
      ],
      "source": [
        "key = ['Decision Tree','Naive Bayes','Gradinet Boosting','KNN','Logistic Regression','MLP','Random Forest','SVC',]\n",
        "value = [DecisionTreeClassifier(),GaussianNB(),GradientBoostingClassifier(),KNeighborsClassifier(),LogisticRegression(solver='lbfgs', max_iter=3000),MLPClassifier(max_iter=3000),RandomForestClassifier(),SVC(kernel='sigmoid')]\n",
        "models = dict(zip(key,value))\n",
        "models"
      ]
    },
    {
      "cell_type": "code",
      "execution_count": null,
      "metadata": {
        "colab": {
          "background_save": true,
          "base_uri": "https://localhost:8080/"
        },
        "id": "16rjSoZtqGY6",
        "outputId": "c103325e-2d4f-4512-f041-d6fb007c53aa"
      },
      "outputs": [
        {
          "name": "stdout",
          "output_type": "stream",
          "text": [
            "Decision Tree: 0.947204 (0.003740)\n",
            "Naive Bayes: 0.730207 (0.003043)\n",
            "Gradinet Boosting: 0.814531 (0.003134)\n",
            "KNN: 0.894702 (0.001556)\n",
            "Logistic Regression: 0.742583 (0.003444)\n",
            "MLP: 0.802908 (0.004101)\n",
            "Random Forest: 0.952721 (0.001978)\n"
          ]
        }
      ],
      "source": [
        "from sklearn.metrics import accuracy_score\n",
        "from sklearn import model_selection\n",
        "\n",
        "seed = 42\n",
        "predicted =[]\n",
        "\n",
        "for name,model in models.items():\n",
        "    kfold = model_selection.KFold(n_splits=10, random_state=seed,shuffle=True)\n",
        "    cv_results = model_selection.cross_val_score(model, X_train, y_train, cv=kfold, scoring='accuracy')\n",
        "    \n",
        "    print(\"%s: %f (%f)\" % (name, cv_results.mean(), cv_results.std()))"
      ]
    },
    {
      "cell_type": "markdown",
      "metadata": {
        "id": "X1i77Cs1AeBw"
      },
      "source": [
        "Based on above result, Decision Tree and Random Forest is selected to proceed to model tuning."
      ]
    },
    {
      "cell_type": "markdown",
      "metadata": {
        "id": "2r0pj90GawsM"
      },
      "source": [
        "### Model Tuning and Scoring\n",
        "\n",
        "Hyperparameter tuning using Grid Search CV"
      ]
    },
    {
      "cell_type": "code",
      "execution_count": null,
      "metadata": {
        "id": "SbZ1YdQ6fQ2q"
      },
      "outputs": [],
      "source": [
        "from sklearn.model_selection import GridSearchCV\n",
        "### Grid Search to tune hyperparameter for random forest\n",
        "param_grid = {\n",
        "    'n_estimators' : [50,60,70,80,90],\n",
        "    'max_depth' : [5,6,7,8,9,10,11,12]\n",
        "}\n",
        "\n",
        "### Grid Search\n",
        "RF=GridSearchCV(RandomForestClassifier(random_state=10), param_grid, cv=10,n_jobs=3)\n",
        "RF.fit(X_train, y_train)\n",
        "\n",
        "\n",
        "# print the best parameters\n",
        "print ('Best Parameters: ', RF.best_params_)"
      ]
    },
    {
      "cell_type": "code",
      "execution_count": null,
      "metadata": {
        "id": "P6BV2QeqRx_F"
      },
      "outputs": [],
      "source": [
        "dt= DecisionTreeClassifier()\n",
        "param_grid = {\n",
        "    'criterion' : ['gini','entropy'],\n",
        "    'max_depth' : range(1,10),\n",
        "    \"min_samples_split\": range(1,10),\n",
        "    \"min_samples_leaf\": range(1,5)\n",
        "}\n",
        "\n",
        "### Grid Search\n",
        "from sklearn.model_selection import GridSearchCV\n",
        "DT=GridSearchCV(dt, param_grid, cv=5,verbose=1,n_jobs=-1)\n",
        "DT.fit(X_train, y_train)\n",
        "\n",
        "# print the best parameters\n",
        "print ('Best Parameters: ', DT.best_params_)\n"
      ]
    },
    {
      "cell_type": "markdown",
      "metadata": {
        "id": "H-wTR4XBj7Vs"
      },
      "source": [
        "### Model Evaluation\n",
        "\n",
        "model evaluation using confusion matrix and classification report"
      ]
    },
    {
      "cell_type": "code",
      "execution_count": null,
      "metadata": {
        "id": "FpbJfkF3kIGm"
      },
      "outputs": [],
      "source": [
        "best_params=RF.best_params_\n",
        "        \n",
        "max_depth=best_params[\"max_depth\"]\n",
        "n_estimators=best_params[\"n_estimators\"]\n",
        "\n",
        "rf=RandomForestClassifier(random_state=10,n_estimators=n_estimators,max_depth=max_depth)\n",
        "rf.fit(X_train, y_train)\n",
        "\n",
        "# Predict \n",
        "y_train_pred = rf.predict(X_smote)\n",
        "y_pred = rf.predict(X_test)\n",
        "print(\"Train Accuracy of RandomForest:\",metrics.accuracy_score(y_smote, y_train_pred))\n",
        "print(\"Test Accuracy of RandomForest:\",metrics.accuracy_score(y_test, y_pred))"
      ]
    },
    {
      "cell_type": "code",
      "execution_count": null,
      "metadata": {
        "id": "hXdE4xFaLop4"
      },
      "outputs": [],
      "source": [
        "from sklearn.metrics import confusion_matrix\n",
        "from sklearn.metrics import classification_report\n",
        "\n",
        "conf_mat = confusion_matrix(y_test, y_pred)\n",
        "plt.figure(figsize = (10,7))\n",
        "sns.heatmap(conf_mat, square=True, annot=True, cmap='Blues', fmt='d', cbar=False)\n",
        "plt.xlabel('Predicted')\n",
        "plt.ylabel('Truth')\n",
        "plt.show()\n",
        "\n",
        "print(classification_report(y_test, y_pred))"
      ]
    },
    {
      "cell_type": "code",
      "execution_count": null,
      "metadata": {
        "id": "xbfZk61ASytB"
      },
      "outputs": [],
      "source": [
        "best_params=DT.best_params_\n",
        "\n",
        "criterion=best_params[\"criterion\"]        \n",
        "max_depth=best_params[\"max_depth\"]\n",
        "min_samples_split=best_params[\"min_samples_split\"]\n",
        "min_samples_leaf=best_params[\"min_samples_leaf\"]\n",
        "\n",
        "\n",
        "DT = DecisionTreeClassifier(criterion=criterion, max_depth=max_depth, min_samples_leaf=min_samples_leaf,\n",
        "                       min_samples_split=min_samples_split)\n",
        "\n",
        "#Train the model on the data\n",
        "DT.fit(X_train, y_train)\n",
        "\n",
        "#predict seen data\n",
        "y_train_pred = DT.predict(X_train)\n",
        "\n",
        "# Predict unseen data\n",
        "y_pred = DT.predict(X_test)\n",
        "print(\"Train Accuracy of DecisionTree:\",metrics.accuracy_score(y_train, y_train_pred))\n",
        "print(\"Test Accuracy of DecisionTree:\",metrics.accuracy_score(y_test, y_pred))\n",
        "\n"
      ]
    },
    {
      "cell_type": "code",
      "execution_count": null,
      "metadata": {
        "id": "T6u6APQER8FM"
      },
      "outputs": [],
      "source": [
        "from sklearn.metrics import confusion_matrix\n",
        "from sklearn.metrics import classification_report\n",
        "\n",
        "conf_mat = confusion_matrix(y_test, y_pred)\n",
        "plt.figure(figsize = (10,7))\n",
        "sns.heatmap(conf_mat, square=True, annot=True, cmap='Blues', fmt='d', cbar=False)\n",
        "plt.xlabel('Predicted')\n",
        "plt.ylabel('Truth')\n",
        "plt.show()\n",
        "\n",
        "print(classification_report(y_test, y_pred))"
      ]
    },
    {
      "cell_type": "markdown",
      "metadata": {
        "id": "gD15ZhpqtI1E"
      },
      "source": [
        "# **The best model is Random Forest Classifier**"
      ]
    }
  ],
  "metadata": {
    "colab": {
      "collapsed_sections": [],
      "name": "MASA machine learning.ipynb",
      "provenance": [],
      "include_colab_link": true
    },
    "kernelspec": {
      "display_name": "Python 3",
      "name": "python3"
    },
    "language_info": {
      "name": "python"
    }
  },
  "nbformat": 4,
  "nbformat_minor": 0
}